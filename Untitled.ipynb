{
 "cells": [
  {
   "cell_type": "code",
   "execution_count": 2,
   "metadata": {},
   "outputs": [
    {
     "data": {
      "text/plain": [
       "'C:\\\\Users\\\\Mikhail\\\\.ipython\\\\profile_default'"
      ]
     },
     "execution_count": 2,
     "metadata": {},
     "output_type": "execute_result"
    }
   ],
   "source": [
    "profile_dir = get_ipython().profile_dir.location\n",
    "profile_dir"
   ]
  },
  {
   "cell_type": "code",
   "execution_count": 3,
   "metadata": {},
   "outputs": [
    {
     "name": "stderr",
     "output_type": "stream",
     "text": [
      "Cloning into 'C:\\Users\\Mikhail\\.ipython\\profile_default\\static\\custom'...\n"
     ]
    }
   ],
   "source": [
    "import os\n",
    "tgt = os.path.join( profile_dir, 'static', 'custom')\n",
    "!git clone https://github.com/ipython-contrib/IPython-notebook-extensions.git $tgt"
   ]
  },
  {
   "cell_type": "code",
   "execution_count": 5,
   "metadata": {},
   "outputs": [
    {
     "name": "stdout",
     "output_type": "stream",
     "text": [
      "C:\\Users\\Mikhail\\.ipython\\profile_default\\static\\custom\n",
      " ’®¬ ў гбва®©бвўҐ C ­Ґ Ё¬ҐҐв ¬ҐвЄЁ.\n",
      " ‘ҐаЁ©­л© ­®¬Ґа в®¬ : 2653-D8BC\n",
      "\n",
      " ‘®¤Ґа¦Ё¬®Ґ Ї ЇЄЁ C:\\Users\\Mikhail\\.ipython\\profile_default\\static\\custom\n",
      "\n",
      "20.10.2017  13:32    <DIR>          .\n",
      "20.10.2017  13:32    <DIR>          ..\n",
      "20.10.2017  13:32               269 .bumpversion.cfg\n",
      "20.10.2017  13:32               610 .gitignore\n",
      "20.10.2017  13:32             5я397 .travis.yml\n",
      "20.10.2017  13:32             3я436 appveyor.yml\n",
      "20.10.2017  13:32            38я884 CHANGELOG.md\n",
      "20.10.2017  13:32                96 codecov.yml\n",
      "20.10.2017  13:32    <DIR>          conda.recipe\n",
      "20.10.2017  13:32             1я786 COPYING.rst\n",
      "20.10.2017  13:32    <DIR>          docs\n",
      "20.10.2017  13:32               625 MANIFEST.in\n",
      "20.10.2017  13:32            12я788 README.md\n",
      "20.10.2017  13:32               167 readthedocs.yml\n",
      "20.10.2017  13:32    <DIR>          scripts\n",
      "20.10.2017  13:32               340 setup.cfg\n",
      "20.10.2017  13:32             4я749 setup.py\n",
      "20.10.2017  13:32    <DIR>          src\n",
      "20.10.2017  13:32    <DIR>          tests\n",
      "20.10.2017  13:32             4я726 tox.ini\n",
      "              13 д ©«®ў         73я873 Ў ©в\n",
      "               7 Ї Ї®Є  128я069я152я768 Ў ©в бў®Ў®¤­®\n"
     ]
    }
   ],
   "source": [
    "%cd $tgt\n",
    "!dir"
   ]
  },
  {
   "cell_type": "code",
   "execution_count": null,
   "metadata": {
    "collapsed": true
   },
   "outputs": [],
   "source": []
  }
 ],
 "metadata": {
  "kernelspec": {
   "display_name": "Python 3",
   "language": "python",
   "name": "python3"
  },
  "language_info": {
   "codemirror_mode": {
    "name": "ipython",
    "version": 3
   },
   "file_extension": ".py",
   "mimetype": "text/x-python",
   "name": "python",
   "nbconvert_exporter": "python",
   "pygments_lexer": "ipython3",
   "version": "3.6.1"
  }
 },
 "nbformat": 4,
 "nbformat_minor": 2
}
