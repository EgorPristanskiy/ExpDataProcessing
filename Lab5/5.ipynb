{
 "cells": [
  {
   "cell_type": "markdown",
   "metadata": {},
   "source": [
    "# SKOLTECH, Experimental Data Processing"
   ]
  },
  {
   "cell_type": "markdown",
   "metadata": {},
   "source": [
    "## Evgenii Safronov, Mikhail Kurenkov, Taras Melnik"
   ]
  },
  {
   "cell_type": "code",
   "execution_count": 1,
   "metadata": {
    "collapsed": true
   },
   "outputs": [],
   "source": [
    "import numpy as np\n",
    "import scipy as sp\n",
    "from matplotlib import pyplot as plt\n",
    "from numpy.linalg import inv\n",
    "import matplotlib as mplb\n",
    "from matplotlib.font_manager import FontProperties\n",
    "%matplotlib inline\n",
    "from numpy.random import normal\n",
    "from mpl_toolkits.mplot3d import Axes3D\n",
    "mplb.rc('xtick', labelsize=5) \n",
    "mplb.rc('ytick', labelsize=5) "
   ]
  },
  {
   "cell_type": "code",
   "execution_count": 2,
   "metadata": {
    "collapsed": true
   },
   "outputs": [],
   "source": [
    "def generate_trajectory(sigma_w_2, sigma_n_2, M, X_0):\n",
    "    sigma_w = sigma_w_2 ** 0.5\n",
    "    sigma_n = sigma_n_2 ** 0.5\n",
    "    w = np.random.normal(0, sigma_w, M)\n",
    "    n = np.random.normal(0, sigma_n, M)\n",
    "\n",
    "    x = w.dot(np.tril(np.ones((M, M)))) + X_0 * np.ones(M)\n",
    "    z = x + n\n",
    "    return x, z\n",
    "\n",
    "def calculate_exp_w_n(z):\n",
    "    v = z - np.roll(z,1)\n",
    "    p = z - np.roll(z,2)\n",
    "    E_v = np.average((v ** 2)[1:])\n",
    "    E_p = np.average((p ** 2)[2:])\n",
    "    return E_p - E_v, E_v - E_p / 2\n",
    "\n",
    "def alpha_opt(sigma_w_2, sigma_n_2):\n",
    "    chi = sigma_w_2 / sigma_n_2\n",
    "    return (-chi + (chi**2 + 4 * chi) ** 0.5) / 2\n",
    "\n",
    "def M_opt(alpha):\n",
    "    return int(round((2 - alpha) / alpha))\n",
    "\n",
    "def running_mean(z, M, mask=None):\n",
    "    if mask is None:\n",
    "        mask = np.ones(M) / M\n",
    "    m = int(M/2)\n",
    "    z_ext = np.zeros(len(z) + 2 * m)\n",
    "    z_ext[:m] = np.flip(z[:m], 0)\n",
    "    z_ext[-m:] = np.flip(z[-m:], 0)\n",
    "    z_ext[m:-m] = z\n",
    "    return np.convolve(z_ext, mask, mode=\"same\")[m:-m]\n",
    "\n",
    "def exp_mean(z, alpha):\n",
    "    exp_mean_z = z.copy()\n",
    "    for i in range(1, len(z)):\n",
    "        exp_mean_z[i] = exp_mean_z[i - 1] + alpha * (z[i] - exp_mean_z[i - 1])\n",
    "    return exp_mean_z\n",
    "\n",
    "def backward_exp_mean(x_f, alpha):\n",
    "    x_b = x_f.copy()\n",
    "    for i in range(len(x_b)-2,-1,-1):\n",
    "        x_b[i] = x_b[i+1] + alpha*(x_f[i] - x_b[i+1])\n",
    "    return x_b"
   ]
  },
  {
   "cell_type": "markdown",
   "metadata": {},
   "source": [
    "# Part 1"
   ]
  },
  {
   "cell_type": "code",
   "execution_count": 11,
   "metadata": {
    "collapsed": true
   },
   "outputs": [],
   "source": [
    "#T - transport matrix\n",
    "#G - input\n",
    "#z - measurements\n",
    "#H - obs\n",
    "#sigma_n - noise\n",
    "#sigma_a - acc noise\n",
    "#R = sigma_n**2 \n",
    "\n",
    "def kalman(x_0, v_0, z, T, G, H, R, sigma_a ):\n",
    "    X = np.zeros((2,len(z)))\n",
    "    X_0 = np.array([x_0, v_0])\n",
    "    P_0 = np.matrix([[10000, 0], [0,10000]])\n",
    "    Q = G.dot(G.transpose())*sigma_a**2\n",
    "    \n",
    "    for i,z_i in enumerate(z):\n",
    "        #Prediction\n",
    "        X[i] = T.dot(X[i-1] if i > 0 else X_0)\n",
    "        P = T.dot(P.dot(T.transpose())) + Q\n",
    "        #Filtration\n",
    "        K = P[i].dot(H.transpose().dot(inv(H.dot(P[i].dot(H.transpose()))) + R))\n",
    "        X[i] = X[i] + K[i]*(z[i] - H.dot(X[i]))\n",
    "        P[i] = (np.identity(len(H)) - K.dot(H)).dot(P[i])\n",
    "    return X\n",
    "        "
   ]
  },
  {
   "cell_type": "code",
   "execution_count": null,
   "metadata": {
    "collapsed": true
   },
   "outputs": [],
   "source": [
    "fun()"
   ]
  }
 ],
 "metadata": {
  "kernelspec": {
   "display_name": "Python 3",
   "language": "python",
   "name": "python3"
  },
  "language_info": {
   "codemirror_mode": {
    "name": "ipython",
    "version": 3
   },
   "file_extension": ".py",
   "mimetype": "text/x-python",
   "name": "python",
   "nbconvert_exporter": "python",
   "pygments_lexer": "ipython3",
   "version": "3.6.1"
  }
 },
 "nbformat": 4,
 "nbformat_minor": 2
}
