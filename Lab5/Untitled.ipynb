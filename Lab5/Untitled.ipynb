{
 "cells": [
  {
   "cell_type": "code",
   "execution_count": 15,
   "metadata": {},
   "outputs": [],
   "source": [
    "import sympy\n",
    "sympy.init_printing()"
   ]
  },
  {
   "cell_type": "code",
   "execution_count": 10,
   "metadata": {
    "collapsed": true
   },
   "outputs": [],
   "source": [
    "v_i, v_i_1, x_i, x_i_1 = sympy.symbols(\"v_i, v_i_1, x_i, x_i_1\")\n",
    "kx, kv = sympy.symbols(\"kx, kv\")"
   ]
  },
  {
   "cell_type": "code",
   "execution_count": 3,
   "metadata": {},
   "outputs": [
    {
     "data": {
      "text/plain": [
       "v_i"
      ]
     },
     "execution_count": 3,
     "metadata": {},
     "output_type": "execute_result"
    }
   ],
   "source": [
    "v_i"
   ]
  },
  {
   "cell_type": "code",
   "execution_count": 4,
   "metadata": {
    "collapsed": true
   },
   "outputs": [],
   "source": [
    "eq = v_i == v_i_1"
   ]
  },
  {
   "cell_type": "code",
   "execution_count": 5,
   "metadata": {},
   "outputs": [
    {
     "data": {
      "text/plain": [
       "False"
      ]
     },
     "execution_count": 5,
     "metadata": {},
     "output_type": "execute_result"
    }
   ],
   "source": [
    "eq"
   ]
  },
  {
   "cell_type": "code",
   "execution_count": 18,
   "metadata": {},
   "outputs": [
    {
     "data": {
      "image/png": "[encoded data removed]",
      "text/latex": [
       "$$v_{i} = - kv x_{i 1} + v_{i 1}$$"
      ],
      "text/plain": [
       "vᵢ = -kv⋅xᵢ ₁ + vᵢ ₁"
      ]
     },
     "execution_count": 18,
     "metadata": {},
     "output_type": "execute_result"
    }
   ],
   "source": [
    "eq1 = sympy.Eq(v_i, v_i_1 - kv * x_i_1)\n",
    "eq2 = sympy.Eq(x_i, (x_i_1 + v_i_1)*(1 - kx))\n",
    "eq1"
   ]
  },
  {
   "cell_type": "code",
   "execution_count": 20,
   "metadata": {},
   "outputs": [
    {
     "data": {
      "image/png": "[encoded data removed]",
      "text/latex": [
       "$$\\left \\{ - \\frac{kx}{2} - \\frac{1}{2} \\sqrt{4 kv kx - 4 kv + kx^{2}} + 1 : 1, \\quad - \\frac{kx}{2} + \\frac{1}{2} \\sqrt{4 kv kx - 4 kv + kx^{2}} + 1 : 1\\right \\}$$"
      ],
      "text/plain": [
       "⎧          ______________________                   ______________________    \n",
       "⎪         ╱                    2                   ╱                    2     \n",
       "⎨  kx   ╲╱  4⋅kv⋅kx - 4⋅kv + kx             kx   ╲╱  4⋅kv⋅kx - 4⋅kv + kx      \n",
       "⎪- ── - ───────────────────────── + 1: 1, - ── + ───────────────────────── + 1\n",
       "⎩  2                2                       2                2                \n",
       "\n",
       "   ⎫\n",
       "   ⎪\n",
       "   ⎬\n",
       ": 1⎪\n",
       "   ⎭"
      ]
     },
     "execution_count": 20,
     "metadata": {},
     "output_type": "execute_result"
    }
   ],
   "source": [
    "sympy.Matrix([[(1 - kx), (1 - kx)], [-kv, 1]]).eigenvals()"
   ]
  },
  {
   "cell_type": "code",
   "execution_count": null,
   "metadata": {
    "collapsed": true
   },
   "outputs": [],
   "source": [
    "kx"
   ]
  }
 ],
 "metadata": {
  "kernelspec": {
   "display_name": "Python 3",
   "language": "python",
   "name": "python3"
  },
  "language_info": {
   "codemirror_mode": {
    "name": "ipython",
    "version": 3
   },
   "file_extension": ".py",
   "mimetype": "text/x-python",
   "name": "python",
   "nbconvert_exporter": "python",
   "pygments_lexer": "ipython3",
   "version": "3.6.1"
  }
 },
 "nbformat": 4,
 "nbformat_minor": 2
}
