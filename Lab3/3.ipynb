{
 "cells": [
  {
   "cell_type": "markdown",
   "metadata": {},
   "source": [
    "# SKOLTECH, Experimental Data Processing"
   ]
  },
  {
   "cell_type": "markdown",
   "metadata": {},
   "source": [
    "## Evgenii Safronov, Mikhail Kurenkov, Taras Melnik"
   ]
  },
  {
   "cell_type": "code",
   "execution_count": 1,
   "metadata": {
    "collapsed": true
   },
   "outputs": [],
   "source": [
    "import numpy as np\n",
    "import scipy as sp\n",
    "from matplotlib import pyplot as plt\n",
    "from numpy.linalg import inv\n",
    "import matplotlib as mplb\n",
    "from matplotlib.font_manager import FontProperties\n",
    "%matplotlib inline\n",
    "from numpy.random import normal\n",
    "mplb.rc('xtick', labelsize=5) \n",
    "mplb.rc('ytick', labelsize=5) "
   ]
  },
  {
   "cell_type": "code",
   "execution_count": 2,
   "metadata": {
    "collapsed": true
   },
   "outputs": [],
   "source": [
    "def generate_trajectory(sigma_w_2, sigma_n_2, M, X_0):\n",
    "    sigma_w = sigma_w_2 ** 0.5\n",
    "    sigma_n = sigma_n_2 ** 0.5\n",
    "    w = np.random.normal(0, sigma_w, M)\n",
    "    n = np.random.normal(0, sigma_n, M)\n",
    "\n",
    "    x = w.dot(np.tril(np.ones((M, M)))) + X_0 * np.ones(M)\n",
    "    z = x + n\n",
    "    return x, z\n",
    "\n",
    "def calculate_exp_w_n(z):\n",
    "    v = z - np.roll(z,1)\n",
    "    p = z - np.roll(z,2)\n",
    "    E_v = np.average((v ** 2)[1:])\n",
    "    E_p = np.average((p ** 2)[2:])\n",
    "    return E_p - E_v, E_v - E_p / 2\n",
    "\n",
    "def alpha(sigma_w_2, sigma_n_2):\n",
    "    chi = sigma_w_2 / sigma_n_2\n",
    "    return (-chi + (chi**2 + 4 * chi) ** 0.5) / 2\n",
    "\n",
    "def M_opt(alpha):\n",
    "    return round((2 - alpha) / alpha)"
   ]
  },
  {
   "cell_type": "code",
   "execution_count": null,
   "metadata": {
    "collapsed": true
   },
   "outputs": [],
   "source": []
  }
 ],
 "metadata": {
  "kernelspec": {
   "display_name": "Python 3",
   "language": "python",
   "name": "python3"
  },
  "language_info": {
   "codemirror_mode": {
    "name": "ipython",
    "version": 3
   },
   "file_extension": ".py",
   "mimetype": "text/x-python",
   "name": "python",
   "nbconvert_exporter": "python",
   "pygments_lexer": "ipython3",
   "version": "3.5.2"
  }
 },
 "nbformat": 4,
 "nbformat_minor": 2
}
